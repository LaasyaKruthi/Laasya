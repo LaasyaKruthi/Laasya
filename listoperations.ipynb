{
  "nbformat": 4,
  "nbformat_minor": 0,
  "metadata": {
    "colab": {
      "name": "listoperations.ipynb",
      "provenance": [],
      "collapsed_sections": [],
      "authorship_tag": "ABX9TyPqiswWfQxdYwJDn92vZ16J",
      "include_colab_link": true
    },
    "kernelspec": {
      "name": "python3",
      "display_name": "Python 3"
    },
    "language_info": {
      "name": "python"
    }
  },
  "cells": [
    {
      "cell_type": "markdown",
      "metadata": {
        "id": "view-in-github",
        "colab_type": "text"
      },
      "source": [
        "<a href=\"https://colab.research.google.com/github/LaasyaKruthi/Laasya/blob/main/listoperations.ipynb\" target=\"_parent\"><img src=\"https://colab.research.google.com/assets/colab-badge.svg\" alt=\"Open In Colab\"/></a>"
      ]
    },
    {
      "cell_type": "code",
      "execution_count": 19,
      "metadata": {
        "colab": {
          "base_uri": "https://localhost:8080/"
        },
        "id": "UMcl32S7rLMh",
        "outputId": "1c5e71ba-d3ef-4a23-8404-c0fd0f623ee2"
      },
      "outputs": [
        {
          "output_type": "stream",
          "name": "stdout",
          "text": [
            "['python']\n",
            "t\n",
            "['python']\n",
            "['python']\n"
          ]
        }
      ],
      "source": [
        "list = ['python']\n",
        "print(list)\n",
        "print(list[0][2])\n",
        "print(list[:])\n",
        "print(list[0:6])"
      ]
    },
    {
      "cell_type": "code",
      "source": [
        "list1=['hello','there']\n",
        "print(list1) #prints all the list elements\n",
        "print(list1[:]) #\n",
        "print(list1[0][0:5])\n",
        "list1.append('nice to meet ya')\n",
        "#added nice to meet ya at the end of the list\n",
        "print(list1)\n",
        "list1.insert(3,'.')\n",
        "print(list1)\n",
        "list1.insert(0,'hey')\n",
        "#added hey at the beginning \n",
        "print(list1)"
      ],
      "metadata": {
        "colab": {
          "base_uri": "https://localhost:8080/"
        },
        "id": "UReX2dwHuXY5",
        "outputId": "3cd6c8c6-463d-4438-edb8-b1b5ddf20593"
      },
      "execution_count": 31,
      "outputs": [
        {
          "output_type": "stream",
          "name": "stdout",
          "text": [
            "['hello', 'there']\n",
            "['hello', 'there']\n",
            "hello\n",
            "['hello', 'there', 'nice to meet ya']\n",
            "['hello', 'there', 'nice to meet ya', '.']\n",
            "['hey', 'hello', 'there', 'nice to meet ya', '.']\n"
          ]
        }
      ]
    },
    {
      "cell_type": "code",
      "source": [
        "odd=[2,4,6,8]\n",
        "print(odd)\n",
        "odd[0]=1\n",
        "print(odd)\n",
        "odd[0:4]=[1,3,5,7]\n",
        "print(odd)"
      ],
      "metadata": {
        "colab": {
          "base_uri": "https://localhost:8080/"
        },
        "id": "HmFO0339wsVJ",
        "outputId": "908c0728-4467-429e-853b-9feea29b932c"
      },
      "execution_count": 34,
      "outputs": [
        {
          "output_type": "stream",
          "name": "stdout",
          "text": [
            "[2, 4, 6, 8]\n",
            "[1, 4, 6, 8]\n",
            "[1, 3, 5, 7]\n"
          ]
        }
      ]
    }
  ]
}