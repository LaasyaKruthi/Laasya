{
  "nbformat": 4,
  "nbformat_minor": 0,
  "metadata": {
    "colab": {
      "name": "listoperations.ipynb",
      "provenance": [],
      "collapsed_sections": [],
      "authorship_tag": "ABX9TyOVhynPCO18mYK4d4y53zLc",
      "include_colab_link": true
    },
    "kernelspec": {
      "name": "python3",
      "display_name": "Python 3"
    },
    "language_info": {
      "name": "python"
    }
  },
  "cells": [
    {
      "cell_type": "markdown",
      "metadata": {
        "id": "view-in-github",
        "colab_type": "text"
      },
      "source": [
        "<a href=\"https://colab.research.google.com/github/LaasyaKruthi/Laasya/blob/main/listoperations.ipynb\" target=\"_parent\"><img src=\"https://colab.research.google.com/assets/colab-badge.svg\" alt=\"Open In Colab\"/></a>"
      ]
    },
    {
      "cell_type": "code",
      "execution_count": 19,
      "metadata": {
        "colab": {
          "base_uri": "https://localhost:8080/"
        },
        "id": "UMcl32S7rLMh",
        "outputId": "1c5e71ba-d3ef-4a23-8404-c0fd0f623ee2"
      },
      "outputs": [
        {
          "output_type": "stream",
          "name": "stdout",
          "text": [
            "['python']\n",
            "t\n",
            "['python']\n",
            "['python']\n"
          ]
        }
      ],
      "source": [
        "list = ['python']\n",
        "print(list)\n",
        "print(list[0][2])\n",
        "print(list[:])\n",
        "print(list[0:6])"
      ]
    },
    {
      "cell_type": "code",
      "source": [
        "list1=['hello','there']\n",
        "print(list1) #prints all the list elements\n",
        "print(list1[:]) #\n",
        "print(list1[0][0:5])\n",
        "list1.append('nice to meet ya')\n",
        "#added nice to meet ya at the end of the list\n",
        "print(list1)\n",
        "list1.insert(3,'.')\n",
        "print(list1)\n",
        "list1.insert(0,'hey')\n",
        "#added hey at the beginning \n",
        "print(list1)"
      ],
      "metadata": {
        "colab": {
          "base_uri": "https://localhost:8080/"
        },
        "id": "UReX2dwHuXY5",
        "outputId": "3cd6c8c6-463d-4438-edb8-b1b5ddf20593"
      },
      "execution_count": 31,
      "outputs": [
        {
          "output_type": "stream",
          "name": "stdout",
          "text": [
            "['hello', 'there']\n",
            "['hello', 'there']\n",
            "hello\n",
            "['hello', 'there', 'nice to meet ya']\n",
            "['hello', 'there', 'nice to meet ya', '.']\n",
            "['hey', 'hello', 'there', 'nice to meet ya', '.']\n"
          ]
        }
      ]
    },
    {
      "cell_type": "code",
      "source": [
        "print(\"he\"*4)\n",
        "print([\"he\"]*4)\n",
        "\n",
        "list2=['he']\n",
        "print(list2*4)"
      ],
      "metadata": {
        "colab": {
          "base_uri": "https://localhost:8080/"
        },
        "id": "btdjdjAj0LUS",
        "outputId": "fb4bac16-0a24-4271-b789-f9367dc18945"
      },
      "execution_count": 38,
      "outputs": [
        {
          "output_type": "stream",
          "name": "stdout",
          "text": [
            "hehehehe\n",
            "['he', 'he', 'he', 'he']\n",
            "['he', 'he', 'he', 'he']\n"
          ]
        }
      ]
    },
    {
      "cell_type": "code",
      "source": [
        "odd=[2,4,6,8]\n",
        "print(odd)\n",
        "odd[0]=1\n",
        "print(odd)\n",
        "odd[0:4]=[1,3,5,7]\n",
        "print(odd)\n",
        "odd.clear()\n",
        "print(odd)\n",
        "del odd\n",
        "print(odd)"
      ],
      "metadata": {
        "colab": {
          "base_uri": "https://localhost:8080/",
          "height": 270
        },
        "id": "HmFO0339wsVJ",
        "outputId": "9f3da2e5-8c40-42d9-a219-3aa078c95997"
      },
      "execution_count": 50,
      "outputs": [
        {
          "output_type": "stream",
          "name": "stdout",
          "text": [
            "[2, 4, 6, 8]\n",
            "[1, 4, 6, 8]\n",
            "[1, 3, 5, 7]\n",
            "[]\n"
          ]
        },
        {
          "output_type": "error",
          "ename": "NameError",
          "evalue": "ignored",
          "traceback": [
            "\u001b[0;31m---------------------------------------------------------------------------\u001b[0m",
            "\u001b[0;31mNameError\u001b[0m                                 Traceback (most recent call last)",
            "\u001b[0;32m<ipython-input-50-ce1d557d1788>\u001b[0m in \u001b[0;36m<module>\u001b[0;34m()\u001b[0m\n\u001b[1;32m      8\u001b[0m \u001b[0mprint\u001b[0m\u001b[0;34m(\u001b[0m\u001b[0modd\u001b[0m\u001b[0;34m)\u001b[0m\u001b[0;34m\u001b[0m\u001b[0;34m\u001b[0m\u001b[0m\n\u001b[1;32m      9\u001b[0m \u001b[0;32mdel\u001b[0m \u001b[0modd\u001b[0m\u001b[0;34m\u001b[0m\u001b[0;34m\u001b[0m\u001b[0m\n\u001b[0;32m---> 10\u001b[0;31m \u001b[0mprint\u001b[0m\u001b[0;34m(\u001b[0m\u001b[0modd\u001b[0m\u001b[0;34m)\u001b[0m\u001b[0;34m\u001b[0m\u001b[0;34m\u001b[0m\u001b[0m\n\u001b[0m",
            "\u001b[0;31mNameError\u001b[0m: name 'odd' is not defined"
          ]
        }
      ]
    },
    {
      "cell_type": "code",
      "source": [
        "pow2 = [2 ** x for x in range (12)]\n",
        "print(pow2)"
      ],
      "metadata": {
        "id": "-oovBZWj3t57",
        "outputId": "1dc409d8-1560-4dde-c8a9-b1e7c2a02cd2",
        "colab": {
          "base_uri": "https://localhost:8080/"
        }
      },
      "execution_count": 58,
      "outputs": [
        {
          "output_type": "stream",
          "name": "stdout",
          "text": [
            "[1, 2, 4, 8, 16, 32, 64, 128, 256, 512, 1024, 2048]\n"
          ]
        }
      ]
    },
    {
      "cell_type": "code",
      "source": [
        "table2 = [2* i for i in range (1,11)]\n",
        "print(table2)"
      ],
      "metadata": {
        "id": "2lymDzfv427p",
        "outputId": "104602bc-ac24-4cbc-ecf1-83caae6c046d",
        "colab": {
          "base_uri": "https://localhost:8080/"
        }
      },
      "execution_count": 60,
      "outputs": [
        {
          "output_type": "stream",
          "name": "stdout",
          "text": [
            "[2, 4, 6, 8, 10, 12, 14, 16, 18, 20]\n"
          ]
        }
      ]
    }
  ]
}