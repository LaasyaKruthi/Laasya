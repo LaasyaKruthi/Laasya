{
  "nbformat": 4,
  "nbformat_minor": 0,
  "metadata": {
    "colab": {
      "name": "lists.ipynb",
      "provenance": [],
      "authorship_tag": "ABX9TyN4dK33s47Tz6AW/Fe6WLoD",
      "include_colab_link": true
    },
    "kernelspec": {
      "name": "python3",
      "display_name": "Python 3"
    },
    "language_info": {
      "name": "python"
    }
  },
  "cells": [
    {
      "cell_type": "markdown",
      "metadata": {
        "id": "view-in-github",
        "colab_type": "text"
      },
      "source": [
        "<a href=\"https://colab.research.google.com/github/LaasyaKruthi/Laasya/blob/main/lists.ipynb\" target=\"_parent\"><img src=\"https://colab.research.google.com/assets/colab-badge.svg\" alt=\"Open In Colab\"/></a>"
      ]
    },
    {
      "cell_type": "code",
      "execution_count": 3,
      "metadata": {
        "colab": {
          "base_uri": "https://localhost:8080/"
        },
        "id": "UMcl32S7rLMh",
        "outputId": "cf76bf36-5a94-4280-f082-ff70215d346b"
      },
      "outputs": [
        {
          "output_type": "stream",
          "name": "stdout",
          "text": [
            "laasya\n",
            "k\n",
            "['laasya', 'kruthi']\n"
          ]
        }
      ],
      "source": [
        "list = [ 'laasya', 'kruthi']\n",
        "print(list[0])\n",
        "print(list[1][0])\n",
        "print(list)"
      ]
    }
  ]
}