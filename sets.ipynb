{
  "nbformat": 4,
  "nbformat_minor": 0,
  "metadata": {
    "colab": {
      "name": "sets.ipynb",
      "provenance": [],
      "authorship_tag": "ABX9TyOISZPIh5Q9RnKWYIzVIOGa",
      "include_colab_link": true
    },
    "kernelspec": {
      "name": "python3",
      "display_name": "Python 3"
    },
    "language_info": {
      "name": "python"
    }
  },
  "cells": [
    {
      "cell_type": "markdown",
      "metadata": {
        "id": "view-in-github",
        "colab_type": "text"
      },
      "source": [
        "<a href=\"https://colab.research.google.com/github/LaasyaKruthi/Laasya/blob/main/sets.ipynb\" target=\"_parent\"><img src=\"https://colab.research.google.com/assets/colab-badge.svg\" alt=\"Open In Colab\"/></a>"
      ]
    },
    {
      "cell_type": "code",
      "execution_count": 4,
      "metadata": {
        "colab": {
          "base_uri": "https://localhost:8080/"
        },
        "id": "EoN_Et0wJD2o",
        "outputId": "81f4a82f-cd17-4eee-8986-11e8b2f4491e"
      },
      "outputs": [
        {
          "output_type": "stream",
          "name": "stdout",
          "text": [
            "union =  {1, 2, 3, 4, 5, 6}\n",
            "intersection =  {3, 4}\n",
            "difference =  {1, 2}\n",
            "symmetric difference =  {1, 2, 5, 6}\n"
          ]
        }
      ],
      "source": [
        "A = {1,2,3,4}\n",
        "B = {3,4,5,6}\n",
        "print(\"union = \",A|B)\n",
        "print(\"intersection = \", A&B)\n",
        "print(\"difference = \", A-B)\n",
        "print(\"symmetric difference = \", A^B)\n"
      ]
    },
    {
      "cell_type": "code",
      "source": [
        "set={\"laasya\"}\n",
        "print('l' in set)\n",
        "print('d'not in set)"
      ],
      "metadata": {
        "colab": {
          "base_uri": "https://localhost:8080/"
        },
        "id": "p1PMbis6KE-v",
        "outputId": "e5695292-944d-44dd-801f-bc1f3c789bff"
      },
      "execution_count": 6,
      "outputs": [
        {
          "output_type": "stream",
          "name": "stdout",
          "text": [
            "False\n",
            "True\n",
            "False\n",
            "True\n"
          ]
        }
      ]
    },
    {
      "cell_type": "code",
      "source": [
        "names = {'laasya','anirudh','bindu','ravi','vyshnavi','gowtham','madhuri'}\n",
        "jclan = {'laasya','anirudh','bindu','ravi','madhuri'}\n",
        "print(\"pclan = \", names-jclan)\n"
      ],
      "metadata": {
        "id": "gC6QHFCTPdah",
        "outputId": "a55b9bb6-5969-4aa3-b6b4-57c0281d326d",
        "colab": {
          "base_uri": "https://localhost:8080/"
        }
      },
      "execution_count": 8,
      "outputs": [
        {
          "metadata": {
            "tags": null
          },
          "name": "stdout",
          "output_type": "stream",
          "text": [
            "pclan =  {'gowtham', 'vyshnavi'}\n"
          ]
        }
      ]
    },
    {
      "cell_type": "code",
      "source": [
        "numbers = {1,2,3,4,5,6,7,8,9,10}\n",
        "odds = {1,3,5,7,9}\n",
        "even = {2,4,6,8,10}\n",
        "print(odds.isdisjoint(even))\n",
        "print(numbers.issuperset(odds))\n",
        "print(odds.issuperset(numbers))\n",
        "print(odds.issubset(numbers))"
      ],
      "metadata": {
        "id": "kEGCWO4GUYch",
        "outputId": "6ea27c0e-55a8-4aed-8dcf-a7eed26cb467",
        "colab": {
          "base_uri": "https://localhost:8080/"
        }
      },
      "execution_count": 9,
      "outputs": [
        {
          "output_type": "stream",
          "name": "stdout",
          "text": [
            "True\n",
            "True\n",
            "False\n",
            "True\n"
          ]
        }
      ]
    },
    {
      "cell_type": "code",
      "source": [
        "elements = {8,5,0,0,2,1,8,9,5,5}\n",
        "print(elements)"
      ],
      "metadata": {
        "id": "G8fA-MQfVajn",
        "outputId": "e7a788b7-678c-4128-d035-aecb1b9101f7",
        "colab": {
          "base_uri": "https://localhost:8080/"
        }
      },
      "execution_count": 10,
      "outputs": [
        {
          "output_type": "stream",
          "name": "stdout",
          "text": [
            "{0, 1, 2, 5, 8, 9}\n"
          ]
        }
      ]
    }
  ]
}